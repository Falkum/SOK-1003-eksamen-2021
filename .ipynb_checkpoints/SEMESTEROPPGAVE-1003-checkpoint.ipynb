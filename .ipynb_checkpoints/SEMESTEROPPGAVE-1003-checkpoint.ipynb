{
 "cells": [
  {
   "cell_type": "markdown",
   "id": "5ce7b68e-04c7-46e3-80cf-37c08bb3fef6",
   "metadata": {},
   "source": [
    "# Semesteroppgave \n",
    "+ SOK-1003-1 21H Python-lab\n"
   ]
  },
  {
   "cell_type": "markdown",
   "id": "77f48f8c-6cf8-4760-8aeb-13a13fa1e294",
   "metadata": {},
   "source": [
    "### 1. Innledning\n",
    "\n",
    "##### Vi har tatt utgangspunkt i problemstillingen: «Lage en funksjon som tar betingelsene for et annuitetslån med gebyrer som argumenter, og plotter renter og avdrag over tid». I prosjektskissen planla vi å finne ut hvordan lånet til \"Kjell\" ville se ut. Vi har endt med å endre litt på problemstillingen. Isteden for den opprinnlige problemstillingen, så ønsker vi å finne ut hvordan et lån på en leilighet til 3 000 000 kroner hadde sett ut. Argumentene vi bruker i denne oppgaven er termingebyr og etableringsgebyr. Tilslutt ønsker vi å finne ut hva totalsummen til lånet ender opp på.\n",
    "\n",
    "##### Dette skal vi finne ut av ved hjelp av programmering i python. Funksjonene skal kunne beregne avdrag, renter og terminbeløp på et lån fordelt over en gitt tidsperiode. Oppgaven skal gi oss en god pekepinn hvordan et annuitetslån er bygd opp.  Vi falt på denne oppgaven fordi den hørtes mest spennende og interessant ut for oss. Det er også sannsynlig at vi havner i jobber etter endt utdanning der dette er meget relevant for oss å kunne."
   ]
  },
  {
   "cell_type": "markdown",
   "id": "24ba2ce3-aa36-4d54-af42-124ac82d02d0",
   "metadata": {},
   "source": [
    "### 2. Fremgangsmåte\n",
    "\n",
    "+ vi starter med å laste ned nødvendige pakker\n",
    "+ så definerer vi nødvendige begreper\n",
    "+ så finner vi ut hvor mange terminer det blir, hvor mange terminer pr år og hva den nominelle renta blir for periodene\n",
    "+ så finner vi ut hva det vil koste i måneden uten gebyrer, så hva den effektive renta per termin uten gebyrer blirså hva den effektive renta per år uten gebyrer blir\n",
    "+ så finner vi ut ytelsen per termin som er det man må betale i måneden, så hva den effektive renta (som er hva man faktisk må betale) blir pr år og termin)\n",
    "+ så finner vi ut hva man må betale i renter og begyrer, samt definerer renter_og_gebyrer til senere bruk\n",
    "+ så printer vi ut alle periodene for å få bedre oversikt\n",
    "+ så finner vi ut hvordan alle de ulike avdragene vil se ut med funksjonen avdrag_pr_termin = npf.ppmt\n",
    "+ vi gjør dette samme for å finne renter, men vi bruker renter_pr_termin = npf.ipmt\n",
    "+ vi ønsker å finne ut hva hva man må betale første og siste termin i renter, da bruker round(renter_pr_termin[0],2) og round(renter_pr_termin[299],2), vi bruker round for å slippe så mange desimaler\n",
    "+ så ønsker vi å lage en samlet tabell på hvordan nedbetalingen av lånet vil se ut. Da definerer vi først kontantstrømmen, som da er hva som går ut fra lånetakers konto og inn til bankens konto, og da blir lånet nedbetalt.\n",
    "+ så lager vi tabellen og definerer tabbelen tabell = PrettyTable([\"Termin\", \"0\", \"1\", \"300\"] med pakken from prettytable import PrettyTable. Det er 300 perioder, derfor går terminene fra 1-300\n",
    "+ vi bruker tabell.add_row, til å lage inn dataene vi trenger f.eks. avdrag, og definerer at den går fra 0-299 som da er terminene vi ønsker å se\n",
    "+ så bruker pandas pakken for annuitets_df = pd.DataFrame, og bruker dataframe og legger inn de tre ulike tabellene vi ønsker å lage\n",
    "+ så bruker annuitets_df for å skrive ut tabellen\n",
    "+ tilslutt bruker vi import matplotlib.pyplot as plt å plotte renter, avdrag og månedlige betalinger\n",
    "+ plt. bruker vi for å definere x og y aksene og, dataen for å kunne lage plottet kommer fra annuitets_df.plot()\n",
    "+ vi importerer math, setter inn nye verdier (men de tilsvarer de tidligere verdiene), for å printe litt tekst som forteller hva totalsummen tl lånebeløpet ender opp på."
   ]
  },
  {
   "cell_type": "markdown",
   "id": "3b7efbe4-5f1c-4687-9295-6289d3bf11b5",
   "metadata": {},
   "source": [
    "### 3. Selve koden"
   ]
  },
  {
   "cell_type": "code",
   "execution_count": 68,
   "id": "b2d99cbe-f040-4e82-88c0-e0c49937b12f",
   "metadata": {},
   "outputs": [],
   "source": [
    "import numpy as np\n",
    "import numpy_financial as npf\n",
    "import pandas as pd\n",
    "import matplotlib.pyplot as plt\n",
    "from prettytable import PrettyTable"
   ]
  },
  {
   "cell_type": "markdown",
   "id": "def17d46-de9c-4264-9aa5-ba1a06b0c757",
   "metadata": {},
   "source": [
    "##### Definerer begreper"
   ]
  },
  {
   "cell_type": "code",
   "execution_count": 69,
   "id": "c09dc7a9-23f5-46b3-8983-c8761ad11694",
   "metadata": {},
   "outputs": [],
   "source": [
    "boligverdi = 3000000 \n",
    "termingebyr = 50\n",
    "terminlengde = 1\n",
    "egenkapital = 450000\n",
    "nominell_rente = 0.0211\n",
    "terminer_pr_år = 12\n",
    "lånets_løpetid = 25\n",
    "lånebeløp = boligverdi - egenkapital\n",
    "etableringsgebyr = -lånebeløp/100"
   ]
  },
  {
   "cell_type": "markdown",
   "id": "f4189c39-e5d2-412e-a2df-a5ce05754a1c",
   "metadata": {},
   "source": [
    "##### Her finner vi ut hvor mange terminer det blir totalt og hvor mange per år, samt hva den nominelle renta blir bruker \"%.0f\" for å kutte desimaler for å få et mer ryddig resultat."
   ]
  },
  {
   "cell_type": "code",
   "execution_count": 70,
   "id": "05686f68-36ca-4515-99b0-be7caa7ae54b",
   "metadata": {},
   "outputs": [
    {
     "name": "stdout",
     "output_type": "stream",
     "text": [
      "300\n",
      "12\n",
      "0.00176\n"
     ]
    }
   ],
   "source": [
    "total_antall_terminer= 12/terminlengde*lånets_løpetid\n",
    "terminer_pr_år = total_antall_terminer/lånets_løpetid\n",
    "nominell_periode_rente = nominell_rente/terminer_pr_år\n",
    "\n",
    "print(\"%.0f\" %total_antall_terminer)\n",
    "print(\"%.0f\" %terminer_pr_år)\n",
    "print(\"%.5f\" %nominell_periode_rente)"
   ]
  },
  {
   "cell_type": "markdown",
   "id": "1c1a1594-4589-4c70-92db-7e42db117845",
   "metadata": {},
   "source": [
    "##### Ytelser uten gebyr \n",
    "##### Her bruker vi pakken import numpy_financial as npf, herfra bruker vi funksjonen ppmt, den returnerer betalingen på hovedstolen for en gitt periode for en investering basert på periodiske, konstante betalinger og en konstant rente. Pmt brukes for å finne renter og avdrag (Hentet fra: https://www.geeksforgeeks.org/numpy-pmt-in-python/)"
   ]
  },
  {
   "cell_type": "markdown",
   "id": "39af0405-6505-442a-8728-2861032aeb06",
   "metadata": {},
   "source": []
  },
  {
   "cell_type": "code",
   "execution_count": 71,
   "id": "599d6f9d-fa0d-4ba5-9642-a0dc8200b7a8",
   "metadata": {},
   "outputs": [
    {
     "name": "stdout",
     "output_type": "stream",
     "text": [
      "-10945.37\n",
      "0.00176\n",
      "0.02131\n"
     ]
    }
   ],
   "source": [
    "ytelse_pr_termin_uten_gebyr = npf.pmt(nominell_periode_rente, total_antall_terminer, lånebeløp)\n",
    "effektiv_rente_pr_termin_uten_gebyr =npf.rate(total_antall_terminer, ytelse_pr_termin_uten_gebyr, lånebeløp, fv=0)\n",
    "effektiv_rente_pr_år_uten_gebyr = ((1+effektiv_rente_pr_termin_uten_gebyr)**terminer_pr_år-1)\n",
    "\n",
    "print(\"%.2f\" %ytelse_pr_termin_uten_gebyr)\n",
    "print(\"%.5f\" %effektiv_rente_pr_termin_uten_gebyr)\n",
    "print(\"%.5f\" %effektiv_rente_pr_år_uten_gebyr)"
   ]
  },
  {
   "cell_type": "markdown",
   "id": "1f687934-5634-45f4-aa29-03b7bff9f62e",
   "metadata": {},
   "source": [
    "##### npf rate brukes for å finne rate eller renter"
   ]
  },
  {
   "cell_type": "code",
   "execution_count": 72,
   "id": "18e10aa9-9fab-48c3-aa40-7ab8cd3e6fef",
   "metadata": {},
   "outputs": [
    {
     "name": "stdout",
     "output_type": "stream",
     "text": [
      "-10995.37\n",
      "0.00187\n",
      "0.02261\n"
     ]
    }
   ],
   "source": [
    "ytelse_pr_termin = ytelse_pr_termin_uten_gebyr - termingebyr\n",
    "effektiv_rente_pr_termin = npf.rate(total_antall_terminer, ytelse_pr_termin, lånebeløp+etableringsgebyr, fv=0)\n",
    "effektiv_rente_pr_år = ((1+effektiv_rente_pr_termin)**terminer_pr_år-1)\n",
    "\n",
    "print(\"%.2f\"%ytelse_pr_termin)\n",
    "print(\"%.5f\"%effektiv_rente_pr_termin)\n",
    "print(\"%.5f\"%effektiv_rente_pr_år)\n"
   ]
  },
  {
   "cell_type": "markdown",
   "id": "d9aad897-2b65-420b-a7c9-a04c498a4d9d",
   "metadata": {},
   "source": [
    "##### Her finner vi ut hva låner må betale i renter og avdrag. Her bruker vi \"%. f\" for å kutte ned desimaler for et mer ryddig resultat."
   ]
  },
  {
   "cell_type": "code",
   "execution_count": 73,
   "id": "cd72c8f3-01f3-456d-b0f5-b64389aad1c2",
   "metadata": {},
   "outputs": [
    {
     "name": "stdout",
     "output_type": "stream",
     "text": [
      "733609.55\n",
      "40500.00\n",
      "774109.55\n"
     ]
    }
   ],
   "source": [
    "renter = (-ytelse_pr_termin_uten_gebyr*total_antall_terminer) - lånebeløp\n",
    "gebyrer = termingebyr*total_antall_terminer- etableringsgebyr\n",
    "renter_og_gebyrer = renter+gebyrer\n",
    "\n",
    "print(\"%.2f\" %renter)\n",
    "print(\"%.2f\" %gebyrer)\n",
    "print(\"%.2f\" %renter_og_gebyrer)\n"
   ]
  },
  {
   "cell_type": "markdown",
   "id": "7a7ceab0-ec21-495e-b453-7010db536a49",
   "metadata": {},
   "source": [
    "##### Ved hjelp av print(perioder) får vi en bedre oversikt over antall terminer. Vi bruker funksjonen np.arange for å sortere de ulike periodene. (Hentet fra: https://numpy.org/doc/stable/reference/generated/numpy.arange.html)"
   ]
  },
  {
   "cell_type": "code",
   "execution_count": 74,
   "id": "58dc64e7-be5b-44a7-94f9-d0fc012aba6d",
   "metadata": {},
   "outputs": [
    {
     "name": "stdout",
     "output_type": "stream",
     "text": [
      "[  1.   2.   3.   4.   5.   6.   7.   8.   9.  10.  11.  12.  13.  14.\n",
      "  15.  16.  17.  18.  19.  20.  21.  22.  23.  24.  25.  26.  27.  28.\n",
      "  29.  30.  31.  32.  33.  34.  35.  36.  37.  38.  39.  40.  41.  42.\n",
      "  43.  44.  45.  46.  47.  48.  49.  50.  51.  52.  53.  54.  55.  56.\n",
      "  57.  58.  59.  60.  61.  62.  63.  64.  65.  66.  67.  68.  69.  70.\n",
      "  71.  72.  73.  74.  75.  76.  77.  78.  79.  80.  81.  82.  83.  84.\n",
      "  85.  86.  87.  88.  89.  90.  91.  92.  93.  94.  95.  96.  97.  98.\n",
      "  99. 100. 101. 102. 103. 104. 105. 106. 107. 108. 109. 110. 111. 112.\n",
      " 113. 114. 115. 116. 117. 118. 119. 120. 121. 122. 123. 124. 125. 126.\n",
      " 127. 128. 129. 130. 131. 132. 133. 134. 135. 136. 137. 138. 139. 140.\n",
      " 141. 142. 143. 144. 145. 146. 147. 148. 149. 150. 151. 152. 153. 154.\n",
      " 155. 156. 157. 158. 159. 160. 161. 162. 163. 164. 165. 166. 167. 168.\n",
      " 169. 170. 171. 172. 173. 174. 175. 176. 177. 178. 179. 180. 181. 182.\n",
      " 183. 184. 185. 186. 187. 188. 189. 190. 191. 192. 193. 194. 195. 196.\n",
      " 197. 198. 199. 200. 201. 202. 203. 204. 205. 206. 207. 208. 209. 210.\n",
      " 211. 212. 213. 214. 215. 216. 217. 218. 219. 220. 221. 222. 223. 224.\n",
      " 225. 226. 227. 228. 229. 230. 231. 232. 233. 234. 235. 236. 237. 238.\n",
      " 239. 240. 241. 242. 243. 244. 245. 246. 247. 248. 249. 250. 251. 252.\n",
      " 253. 254. 255. 256. 257. 258. 259. 260. 261. 262. 263. 264. 265. 266.\n",
      " 267. 268. 269. 270. 271. 272. 273. 274. 275. 276. 277. 278. 279. 280.\n",
      " 281. 282. 283. 284. 285. 286. 287. 288. 289. 290. 291. 292. 293. 294.\n",
      " 295. 296. 297. 298. 299. 300.]\n"
     ]
    }
   ],
   "source": [
    "perioder = np.arange(total_antall_terminer) + 1 \n",
    "print(perioder)"
   ]
  },
  {
   "cell_type": "markdown",
   "id": "64d74c10-12f6-403f-870a-aa79a54a3879",
   "metadata": {},
   "source": [
    "##### Her får vi en bedre oversikt over hvordan alle avdragene får de ulike terminene vil se ut. Vi bruker npf.ppmt som vi bruker gjennom NumphyFinancial, etter litt søking fant vi at dette var en funksjon som egnet seg til dette formålet. ppmt pakken brukes til å bergne lånets betaling mot hovedstolen, med det menes det oprinnelige gjeldsbeløpet uten påløpte renter. (oversatt og hentet fra https://support.microsoft.com/en-us/office/ppmt-function-c370d9e3-7749-4ca4-beea-b06c6ac95e1b)"
   ]
  },
  {
   "cell_type": "code",
   "execution_count": 75,
   "id": "f2e7ed13-51cc-4c3d-9ab1-d265f7612f8c",
   "metadata": {},
   "outputs": [
    {
     "name": "stdout",
     "output_type": "stream",
     "text": [
      "[ -6461.61515667  -6472.97682999  -6484.35848091  -6495.76014457\n",
      "  -6507.18185616  -6518.62365093  -6530.08556418  -6541.5676313\n",
      "  -6553.06988771  -6564.59236893  -6576.13511052  -6587.69814808\n",
      "  -6599.28151733  -6610.885254    -6622.5093939   -6634.15397292\n",
      "  -6645.81902699  -6657.50459211  -6669.21070435  -6680.93739984\n",
      "  -6692.68471477  -6704.45268539  -6716.24134803  -6728.05073907\n",
      "  -6739.88089495  -6751.73185219  -6763.60364736  -6775.49631711\n",
      "  -6787.40989813  -6799.3444272   -6811.29994116  -6823.27647689\n",
      "  -6835.27407136  -6847.2927616   -6859.33258471  -6871.39357783\n",
      "  -6883.47577821  -6895.57922312  -6907.70394992  -6919.84999603\n",
      "  -6932.01739894  -6944.2061962   -6956.41642543  -6968.64812431\n",
      "  -6980.9013306   -6993.1760821   -7005.47241671  -7017.79037238\n",
      "  -7030.12998712  -7042.49129901  -7054.87434621  -7067.27916694\n",
      "  -7079.70579947  -7092.15428217  -7104.62465345  -7117.1169518\n",
      "  -7129.63121577  -7142.16748399  -7154.72579515  -7167.30618801\n",
      "  -7179.90870139  -7192.53337419  -7205.18024537  -7217.84935397\n",
      "  -7230.54073908  -7243.25443988  -7255.99049561  -7268.74894556\n",
      "  -7281.52982912  -7294.33318574  -7307.15905493  -7320.00747626\n",
      "  -7332.87848941  -7345.77213409  -7358.68845009  -7371.62747728\n",
      "  -7384.58925559  -7397.57382504  -7410.58122568  -7423.61149767\n",
      "  -7436.66468122  -7449.74081661  -7462.83994422  -7475.96210445\n",
      "  -7489.10733782  -7502.27568489  -7515.4671863   -7528.68188277\n",
      "  -7541.91981508  -7555.18102409  -7568.46555072  -7581.77343598\n",
      "  -7595.10472094  -7608.45944674  -7621.8376546   -7635.23938581\n",
      "  -7648.66468173  -7662.1135838   -7675.58613352  -7689.08237247\n",
      "  -7702.60234231  -7716.14608476  -7729.71364162  -7743.30505478\n",
      "  -7756.92036616  -7770.55961781  -7784.2228518   -7797.91011032\n",
      "  -7811.62143559  -7825.35686995  -7839.11645578  -7852.90023555\n",
      "  -7866.7082518   -7880.54054714  -7894.39716427  -7908.27814595\n",
      "  -7922.18353502  -7936.11337441  -7950.06770709  -7964.04657614\n",
      "  -7978.0500247   -7992.078096    -8006.13083332  -8020.20828003\n",
      "  -8034.31047959  -8048.43747552  -8062.58931141  -8076.76603095\n",
      "  -8090.96767789  -8105.19429605  -8119.44592936  -8133.72262178\n",
      "  -8148.02441739  -8162.35136033  -8176.7034948   -8191.08086512\n",
      "  -8205.48351564  -8219.91149082  -8234.36483519  -8248.84359336\n",
      "  -8263.34781001  -8277.87752991  -8292.4327979   -8307.0136589\n",
      "  -8321.62015792  -8336.25234003  -8350.91025039  -8365.59393425\n",
      "  -8380.30343692  -8395.0388038   -8409.80008036  -8424.58731217\n",
      "  -8439.40054486  -8454.23982415  -8469.10519584  -8483.99670581\n",
      "  -8498.91440002  -8513.8583245   -8528.82852539  -8543.82504888\n",
      "  -8558.84794126  -8573.89724889  -8588.97301822  -8604.07529578\n",
      "  -8619.20412817  -8634.3595621   -8649.54164433  -8664.75042172\n",
      "  -8679.98594121  -8695.24824982  -8710.53739466  -8725.85342291\n",
      "  -8741.19638185  -8756.56631882  -8771.96328126  -8787.3873167\n",
      "  -8802.83847273  -8818.31679705  -8833.82233741  -8849.35514169\n",
      "  -8864.91525782  -8880.50273381  -8896.11761778  -8911.75995793\n",
      "  -8927.42980252  -8943.12719992  -8958.85219858  -8974.60484703\n",
      "  -8990.38519389  -9006.19328785  -9022.02917772  -9037.89291236\n",
      "  -9053.78454073  -9069.70411188  -9085.65167494  -9101.62727914\n",
      "  -9117.63097377  -9133.66280823  -9149.722832    -9165.81109465\n",
      "  -9181.92764582  -9198.07253527  -9214.24581281  -9230.44752836\n",
      "  -9246.67773193  -9262.93647361  -9279.22380358  -9295.5397721\n",
      "  -9311.88442953  -9328.25782632  -9344.660013    -9361.09104019\n",
      "  -9377.5509586   -9394.03981904  -9410.55767239  -9427.10456963\n",
      "  -9443.68056183  -9460.28570015  -9476.92003584  -9493.58362023\n",
      "  -9510.27650477  -9526.99874095  -9543.75038041  -9560.53147483\n",
      "  -9577.342076    -9594.18223582  -9611.05200625  -9627.95143936\n",
      "  -9644.88058731  -9661.83950234  -9678.8282368   -9695.84684312\n",
      "  -9712.89537382  -9729.97388151  -9747.08241892  -9764.22103884\n",
      "  -9781.38979417  -9798.58873789  -9815.81792309  -9833.07740294\n",
      "  -9850.3672307   -9867.68745975  -9885.03814353  -9902.4193356\n",
      "  -9919.8310896   -9937.27345927  -9954.74649843  -9972.25026103\n",
      "  -9989.78480107 -10007.35017268 -10024.94643006 -10042.57362754\n",
      " -10060.2318195  -10077.92106045 -10095.64140498 -10113.39290778\n",
      " -10131.17562365 -10148.98960745 -10166.83491418 -10184.7115989\n",
      " -10202.6197168  -10220.55932313 -10238.53047327 -10256.53322269\n",
      " -10274.56762694 -10292.63374168 -10310.73162268 -10328.86132578\n",
      " -10347.02290695 -10365.21642223 -10383.44192777 -10401.69947982\n",
      " -10419.98913474 -10438.31094897 -10456.66497906 -10475.05128165\n",
      " -10493.46991348 -10511.92093141 -10530.40439238 -10548.92035344\n",
      " -10567.46887173 -10586.0500045  -10604.66380909 -10623.31034295\n",
      " -10641.98966364 -10660.7018288  -10679.44689618 -10698.22492364\n",
      " -10717.03596913 -10735.88009071 -10754.75734653 -10773.66779487\n",
      " -10792.61149407 -10811.58850262 -10830.59887907 -10849.6426821\n",
      " -10868.71997048 -10887.83080309 -10906.97523892 -10926.15333705]\n"
     ]
    }
   ],
   "source": [
    "avdrag_pr_termin = npf.ppmt(nominell_periode_rente, perioder, total_antall_terminer, lånebeløp)\n",
    "print(avdrag_pr_termin)"
   ]
  },
  {
   "cell_type": "markdown",
   "id": "d313f5c6-92dc-49eb-8622-26b9af3b8d91",
   "metadata": {},
   "source": [
    "##### Pakken impt brukes til å beregne rentdelen av betaling, så bruker vi print() for å printe ut alle de ulike rentebetalingene, slik at vi får et mer ryddig og oversiktlig resultat. Impt brukes dermed kun for å regne på renten (hentet fra https://www.geeksforgeeks.org/numpy-ipmt-in-python/). "
   ]
  },
  {
   "cell_type": "code",
   "execution_count": 76,
   "id": "911f5356-d0fd-4221-82f9-533f25355a47",
   "metadata": {},
   "outputs": [
    {
     "name": "stdout",
     "output_type": "stream",
     "text": [
      "[-4483.75       -4472.38832668 -4461.00667576 -4449.60501209\n",
      " -4438.18330051 -4426.74150574 -4415.27959249 -4403.79752537\n",
      " -4392.29526895 -4380.77278774 -4369.23004615 -4357.66700858\n",
      " -4346.08363934 -4334.47990267 -4322.85576277 -4311.21118375\n",
      " -4299.54612968 -4287.86056456 -4276.15445232 -4264.42775683\n",
      " -4252.6804419  -4240.91247128 -4229.12380864 -4217.3144176\n",
      " -4205.48426172 -4193.63330448 -4181.76150931 -4169.86883956\n",
      " -4157.95525853 -4146.02072946 -4134.06521551 -4122.08867978\n",
      " -4110.09108531 -4098.07239507 -4086.03257196 -4073.97157883\n",
      " -4061.88937846 -4049.78593355 -4037.66120675 -4025.51516064\n",
      " -4013.34775773 -4001.15896047 -3988.94873124 -3976.71703236\n",
      " -3964.46382607 -3952.18907457 -3939.89273996 -3927.57478429\n",
      " -3915.23516955 -3902.87385766 -3890.49081046 -3878.08598973\n",
      " -3865.6593572  -3853.2108745  -3840.74050322 -3828.24820487\n",
      " -3815.7339409  -3803.19767268 -3790.63936152 -3778.05896866\n",
      " -3765.45645528 -3752.83178248 -3740.1849113  -3727.5158027\n",
      " -3714.82441758 -3702.11071679 -3689.37466106 -3676.61621111\n",
      " -3663.83532754 -3651.03197093 -3638.20610174 -3625.3576804\n",
      " -3612.48666726 -3599.59302258 -3586.67670658 -3573.73767939\n",
      " -3560.77590107 -3547.79133163 -3534.78393099 -3521.753659\n",
      " -3508.70047545 -3495.62434005 -3482.52521245 -3469.40305222\n",
      " -3456.25781885 -3443.08947178 -3429.89797037 -3416.6832739\n",
      " -3403.44534159 -3390.18413258 -3376.89960595 -3363.59172069\n",
      " -3350.26043573 -3336.90570993 -3323.52750207 -3310.12577086\n",
      " -3296.70047494 -3283.25157287 -3269.77902315 -3256.2827842\n",
      " -3242.76281436 -3229.21907191 -3215.65151505 -3202.06010189\n",
      " -3188.4447905  -3174.80553886 -3161.14230487 -3147.45504635\n",
      " -3133.74372107 -3120.00828672 -3106.24870089 -3092.46492112\n",
      " -3078.65690487 -3064.82460953 -3050.9679924  -3037.08701072\n",
      " -3023.18162165 -3009.25178226 -2995.29744958 -2981.31858053\n",
      " -2967.31513197 -2953.28706067 -2939.23432335 -2925.15687664\n",
      " -2911.05467708 -2896.92768115 -2882.77584526 -2868.59912572\n",
      " -2854.39747878 -2840.17086061 -2825.91922731 -2811.64253488\n",
      " -2797.34073927 -2783.01379634 -2768.66166187 -2754.28429155\n",
      " -2739.88164103 -2725.45366585 -2711.00032148 -2696.52156331\n",
      " -2682.01734666 -2667.48762676 -2652.93235877 -2638.35149777\n",
      " -2623.74499875 -2609.11281664 -2594.45490627 -2579.77122242\n",
      " -2565.06171975 -2550.32635287 -2535.56507631 -2520.7778445\n",
      " -2505.96461181 -2491.12533252 -2476.25996083 -2461.36845086\n",
      " -2446.45075665 -2431.50683217 -2416.53663128 -2401.54010779\n",
      " -2386.51721541 -2371.46790778 -2356.39213845 -2341.28986089\n",
      " -2326.1610285  -2311.00559457 -2295.82351234 -2280.61473495\n",
      " -2265.37921546 -2250.11690685 -2234.82776201 -2219.51173376\n",
      " -2204.16877482 -2188.79883785 -2173.4018754  -2157.97783997\n",
      " -2142.52668394 -2127.04835962 -2111.54281925 -2096.01001498\n",
      " -2080.44989885 -2064.86242286 -2049.24753888 -2033.60519874\n",
      " -2017.93535415 -2002.23795674 -1986.51295808 -1970.76030964\n",
      " -1954.97996278 -1939.17186881 -1923.33597895 -1907.47224431\n",
      " -1891.58061594 -1875.66104479 -1859.71348173 -1843.73787753\n",
      " -1827.7341829  -1811.70234844 -1795.64232467 -1779.55406202\n",
      " -1763.43751084 -1747.2926214  -1731.11934386 -1714.91762831\n",
      " -1698.68742473 -1682.42868306 -1666.14135309 -1649.82538457\n",
      " -1633.48072714 -1617.10733035 -1600.70514367 -1584.27411648\n",
      " -1567.81419807 -1551.32533763 -1534.80748428 -1518.26058704\n",
      " -1501.68459484 -1485.07945652 -1468.44512083 -1451.78153643\n",
      " -1435.0886519  -1418.36641571 -1401.61477626 -1384.83368184\n",
      " -1368.02308067 -1351.18292085 -1334.31315042 -1317.41371731\n",
      " -1300.48456936 -1283.52565433 -1266.53691987 -1249.51831355\n",
      " -1232.46978285 -1215.39127515 -1198.28273775 -1181.14411783\n",
      " -1163.9753625  -1146.77641878 -1129.54723358 -1112.28775373\n",
      " -1094.99792597 -1077.67769692 -1060.32701313 -1042.94582107\n",
      " -1025.53406707 -1008.0916974   -990.61865824  -973.11489564\n",
      "  -955.5803556   -938.01498399  -920.4187266   -902.79152913\n",
      "  -885.13333717  -867.44409622  -849.72375169  -831.97224889\n",
      "  -814.18953302  -796.37554922  -778.53024249  -760.65355777\n",
      "  -742.74543987  -724.80583354  -706.83468339  -688.83193398\n",
      "  -670.79752973  -652.73141498  -634.63353399  -616.50383089\n",
      "  -598.34224972  -580.14873444  -561.9232289   -543.66567684\n",
      "  -525.37602193  -507.0542077   -488.70017761  -470.31387502\n",
      "  -451.89524319  -433.44422526  -414.96076428  -396.44480323\n",
      "  -377.89628494  -359.31515217  -340.70134758  -322.05481372\n",
      "  -303.37549303  -284.66332787  -265.91826049  -247.14023303\n",
      "  -228.32918754  -209.48506596  -190.60781014  -171.6973618\n",
      "  -152.7536626   -133.77665405  -114.7662776    -95.72247457\n",
      "   -76.64518619   -57.53435357   -38.38991775   -19.21181962]\n"
     ]
    }
   ],
   "source": [
    "renter_pr_termin = npf.ipmt(nominell_periode_rente, perioder, total_antall_terminer, lånebeløp)\n",
    "print(renter_pr_termin)"
   ]
  },
  {
   "cell_type": "markdown",
   "id": "23ab2c78-bf9a-4ca1-aff0-1695bb1a6a34",
   "metadata": {},
   "source": [
    "##### Vi bruker round() for å printe ut de ulike terminene, samt runde opp så vi slipper mange desimaler for et mer oversiktlig bilde. Her hadde det blitt mer ryddig brukt en celle for begge round(), men da ville den bare printe ut den ene renten. Derfor får hver round() sin egen celle. Tallet 0 står får første rentebetaling, mens 299 står får siste rente betaling. Her kan vi da se første og siste rentebetaling."
   ]
  },
  {
   "cell_type": "code",
   "execution_count": 77,
   "id": "8164fc4f-3e9b-4a70-8460-96951975c35a",
   "metadata": {},
   "outputs": [
    {
     "data": {
      "text/plain": [
       "-4483.75"
      ]
     },
     "execution_count": 77,
     "metadata": {},
     "output_type": "execute_result"
    }
   ],
   "source": [
    "round(renter_pr_termin[0],2)"
   ]
  },
  {
   "cell_type": "code",
   "execution_count": 78,
   "id": "f15e4a96-e754-44ac-b9f3-6e6a36381f99",
   "metadata": {},
   "outputs": [
    {
     "data": {
      "text/plain": [
       "-19.21"
      ]
     },
     "execution_count": 78,
     "metadata": {},
     "output_type": "execute_result"
    }
   ],
   "source": [
    "round(renter_pr_termin[299],2)"
   ]
  },
  {
   "cell_type": "markdown",
   "id": "a8a2d5ca-6d26-4fb1-9f7c-0d7ab178b8d8",
   "metadata": {},
   "source": [
    "##### Kontantstrøm er differansen på hva som går som inn og ut betalinger. Den sier altså hva man må betale i måneden. Her har vi brukt from prettytable import PrettyTable for å lage denne tabellen. Vi har brukt funksjonen tabell.add_row([\"\",,, ]) for å lage hver tabell rad. Her er det viktig at det er like mange variabler for å kunne kjøre ut koden. Vi har satt 0 for første betaling og 299 for siste, grunnen til dette er at hvis vi hadde satt 1 og 300 så hadde vi ikke hatt riktig antall terminer, 1 hadde hoppet over første termin, og 300 hadd vært terminen etter siste termin som da ikke eksiterer. \n",
    "\n",
    "##### Vi bruker pakken from prettytable import PrettyTable til å lage tabellen. Ved at vi definerer tabellen gjennom pakken. Så bruker vi pakken import pandas as pd, dette gjør så vi kan definere annuitets_df gjennom pandas. Så plotter vi inn alle variablene vi ønsker i radene, avdrag, renter og månedlig nedbetaling. Tilslutt printer vi ut variablene som viser de månedlige betalingene, avdragene og rentene."
   ]
  },
  {
   "cell_type": "code",
   "execution_count": 79,
   "id": "77608ff1-d239-4f67-a5ab-b5bb800954f6",
   "metadata": {},
   "outputs": [
    {
     "name": "stdout",
     "output_type": "stream",
     "text": [
      "     Avdrag pr måned  Renter pr måned  Månedlig terminbeløp\n",
      "0        6461.615157      4483.750000         -10995.365157\n",
      "1        6472.976830      4472.388327         -10995.365157\n",
      "2        6484.358481      4461.006676         -10995.365157\n",
      "3        6495.760145      4449.605012         -10995.365157\n",
      "4        6507.181856      4438.183301         -10995.365157\n",
      "..               ...              ...                   ...\n",
      "295     10849.642682        95.722475         -10995.365157\n",
      "296     10868.719970        76.645186         -10995.365157\n",
      "297     10887.830803        57.534354         -10995.365157\n",
      "298     10906.975239        38.389918         -10995.365157\n",
      "299     10926.153337        19.211820         -10995.365157\n",
      "\n",
      "[300 rows x 3 columns]\n"
     ]
    }
   ],
   "source": [
    "kontantstrøm = avdrag_pr_termin + renter_pr_termin - termingebyr\n",
    "kontantstrøm_termin1 = (round(kontantstrøm[0]))\n",
    "kontantstrøm_termin300 = (round(kontantstrøm[299]))\n",
    "lånebeløp_termin1 = (round(avdrag_pr_termin[0]))\n",
    "lånebeløp_termin300 = (round(avdrag_pr_termin[299]))\n",
    "\n",
    "tabell = PrettyTable([\"Termin\", \"0\", \"1\", \"300\"])\n",
    "                       \n",
    "tabell.add_row([\"Saldo på lån\", lånebeløp, lånebeløp_termin1, 0])\n",
    "tabell.add_row([\"Renter\",\"\", round(renter_pr_termin[0]), round(renter_pr_termin[299])])\n",
    "tabell.add_row([\"Avdrag\",\"\", round(avdrag_pr_termin[0]), round(avdrag_pr_termin[299])])                                            \n",
    "tabell.add_row([\"Gebyr\", round(etableringsgebyr), -termingebyr, -termingebyr])\n",
    "tabell.add_row([\"Kontanstrømmen til låner\", lånebeløp+(round(etableringsgebyr)),kontantstrøm_termin1, kontantstrøm_termin300])\n",
    "                       \n",
    "print(pd.DataFrame({\"Avdrag pr måned\":-avdrag_pr_termin,\n",
    "                            \"Renter pr måned\":-renter_pr_termin,\n",
    "                            (\"Månedlig terminbeløp\"):avdrag_pr_termin+renter_pr_termin-termingebyr}))"
   ]
  },
  {
   "cell_type": "markdown",
   "id": "f35e75c7-56c3-46da-afca-5b1b0ebf85b1",
   "metadata": {},
   "source": [
    "##### Her bruker vi pakken import matplotlib.pyplot as plt. Denne pakken bruker vi for å lage selve plottet. Vi bruker plt. for å definere x og y aksen. Plottet blir basert på annuitets_df, ettersom at vi definerte det i forrige celle trenger vi ikke gjøre dette på nytt. Alternativet ville vært å plottet inn hver ulik variabel hver for seg. Dette slipper vi fordi annuitets_df er definert.\n",
    "\n",
    "##### Det blir en riktig graf, men 0 på y aksen står ikke i origio, den står øverst på aksen, dermed blir grafen \"speilvendt\"\n",
    "\n",
    "##### Plottet viser annuitetslånets løpetid. I starten ser vi at rentedelen stor (oransj graf), og avdragsdelen liten (blå graf), etter hvert som lånet delvis nedbetales blir avdragsdelen større og rentedelen mindre. Disse faktorene er det som kjennertegner et annuitetslån. Den grønne linjen representerer månedlig nedbetaling og er lineær fordi beløpet er det samme for hver termin"
   ]
  },
  {
   "cell_type": "code",
   "execution_count": 80,
   "id": "6a27b3b4-a0ec-4ebc-9e66-e497d3a86f28",
   "metadata": {},
   "outputs": [
    {
     "data": {
      "text/plain": [
       "Text(0, 0.5, 'Beløp i kroner')"
      ]
     },
     "execution_count": 80,
     "metadata": {},
     "output_type": "execute_result"
    },
    {
     "data": {
      "image/png": "[encoded data removed]",
      "text/plain": [
       "<Figure size 432x288 with 1 Axes>"
      ]
     },
     "metadata": {
      "needs_background": "light"
     },
     "output_type": "display_data"
    }
   ],
   "source": [
    "annuitets_df.plot();\n",
    "plt.xlabel(\"Terminer i antall\", size=12)\n",
    "plt.ylabel(\"Beløp i kroner\", size=12)"
   ]
  },
  {
   "cell_type": "markdown",
   "id": "f69351c5-8acd-471f-baad-cf6f2d85c13d",
   "metadata": {},
   "source": [
    "##### Vi importer math, og bruker def calc_mortgage, for å regne ut totalsummen av lånebeløpet. Vi bruker {:,} for å kvitte oss med desimaler, og vi bruker sf = '''\\''' for å printe ut teksten. Vi bruker format. til printe ut totalsummen. Funksjonen print('-'*25) printer ut ---- strekene for å skille i teksten, for et mer ryddig resultat. Math.pow brukes for å gjøre interest_rate og paymentnum til en positiv float. "
   ]
  },
  {
   "cell_type": "code",
   "execution_count": 81,
   "id": "f313bb05-f5d2-49da-ad55-f10ea630b6b4",
   "metadata": {},
   "outputs": [
    {
     "name": "stdout",
     "output_type": "stream",
     "text": [
      "For et boliglån over 25 år av kr 2,550,000 \n",
      "med en rente på 2.08%\n",
      "vil du måtte betale kr 10995.37 i terminbeløp månedelig\n",
      "-------------------------\n",
      "totalbeløpet vil bli kr 3,298,609.55 når lånet er infridd etter 25 år.\n"
     ]
    }
   ],
   "source": [
    "import math\n",
    "\n",
    "def calc_mortgage(principal, interest, years):\n",
    "  \n",
    "   \n",
    "    interest_rate = interest/(100 * 12)\n",
    "    payment_num = years * 12\n",
    "    payment = principal * \\\n",
    "        (interest_rate/(1-math.pow((1+interest_rate), (-payment_num))))\n",
    "    return payment\n",
    "\n",
    "\n",
    "boliglån = 2550000\n",
    "boliglånsrente = 2.08\n",
    "år = 25\n",
    "månedlig_nedbetaling = 10995.365157\n",
    "totalsum = månedlig_nedbetaling * år * 12\n",
    "\n",
    "sf = '''\\\n",
    "For et boliglån over {} år av kr {:,} \n",
    "med en rente på {:.2f}%\n",
    "vil du måtte betale kr {:.2f} i terminbeløp månedelig'''\n",
    "print(sf.format(år, boliglån, boliglånsrente, månedlig_nedbetaling))\n",
    "print('-'*25)\n",
    "print(\"totalbeløpet vil bli kr {:,.2f} når lånet er infridd etter 25 år.\".format(totalsum))"
   ]
  },
  {
   "cell_type": "markdown",
   "id": "69e49e4e-8f5f-436a-af1d-ba02544ef54b",
   "metadata": {},
   "source": [
    "### 4. Analysedel\n",
    "##### Analysen av denne oppgaven gjennomgås gjennom koden i cellene over cellen det gjelder for. "
   ]
  },
  {
   "cell_type": "markdown",
   "id": "53f0220c-5c21-4b3c-ac9d-f461c15e082a",
   "metadata": {},
   "source": [
    "### 5. Konklusjon\n",
    "##### I denne oppgaven har vi funnet ut hvordan lånet fordeler seg på renter og avdrag samt at vi har sett på hvordan størrelsesforholdet forandrer seg etterhvert som man har betalt ned på lånet. Argumentene vi har benyttet oss av er termingebyr og etableringsgebyr, som tvist på oppgaven. Den månedlige nedbetalingen blir derfor ca. 10995 kr. Dette er et annuitetslån, som vil si at den månedlige betalingen holder seg på 10 995 kroner, derimot er rentene og avdragene i endring. I starten betaler man mer på renter og mindre på selve lånet, over tid snur dette, så man betaler mindre på renter og mer på selve lånet. Derfor betaler man avrundet 4484 kr i første termin og ca. 19 kr i siste termin på renten. Dette er illustrert gjennom grafen som vi har plottet. Tilslutt har vi funnet ut at totalsummen for lånebeløpet ender på kroner 3 298 609, 55. \n"
   ]
  },
  {
   "cell_type": "markdown",
   "id": "71e23f05-3994-43a6-b5f8-e1520d4564a7",
   "metadata": {},
   "source": [
    "#### Kilder: \n",
    "\n",
    "##### https://www.geeksforgeeks.org/how-to-make-a-table-in-python/ \n",
    "##### https://www.youtube.com/watch?v=guqYLYEC28g\n",
    "##### https://www.youtube.com/watch?v=nv7KnjG5Pxg\n",
    "##### https://github.com/MisterZurg/Hyperskill_Loan_Calculator/blob/15a604375d9da67354a200ec3954cfc7ab10a32e/Loan%20Calculator/task/creditcalc/creditcalc.py\n",
    "##### https://pbpython.com/amortization-model.html\n",
    "##### https://github.com/lukas-hauser/annuity-calculation/blob/main/Annuity.ipynb\n",
    "##### https://www.geeksforgeeks.org/how-to-make-a-table-in-python/ \n",
    "##### https://support.microsoft.com/en-us/office/ppmt-function-c370d9e3-7749-4ca4-beea-b06c6ac95e1b\n",
    "##### https://www.geeksforgeeks.org/numpy-ipmt-in-python/\n",
    "##### https://www.geeksforgeeks.org/numpy-pmt-in-python/\n",
    "##### https://www.w3schools.com/python/ref_math_pow.asp\n",
    "##### https://towardsdatascience.com/how-to-easily-create-tables-in-python-2eaea447d8fd"
   ]
  }
 ],
 "metadata": {
  "kernelspec": {
   "display_name": "Python 3 (ipykernel)",
   "language": "python",
   "name": "python3"
  },
  "language_info": {
   "codemirror_mode": {
    "name": "ipython",
    "version": 3
   },
   "file_extension": ".py",
   "mimetype": "text/x-python",
   "name": "python",
   "nbconvert_exporter": "python",
   "pygments_lexer": "ipython3",
   "version": "3.9.5"
  }
 },
 "nbformat": 4,
 "nbformat_minor": 5
}
